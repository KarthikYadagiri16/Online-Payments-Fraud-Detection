{
 "cells": [
  {
   "cell_type": "markdown",
   "id": "edcf9174",
   "metadata": {},
   "source": [
    "# INTRODUCTION"
   ]
  },
  {
   "cell_type": "markdown",
   "id": "83aaf119",
   "metadata": {},
   "source": [
    "\n",
    "As we are approaching modernity, the trend of paying online is increasing tremendously. It is very beneficial for the buyer to pay online as it saves time, and solves the problem of free money. Also, we do not need to carry cash with us. But we all know that Good thing are accompanied by bad things. \n",
    "\n",
    "The online payment method leads to fraud that can happen using any payment app. That is why Online Payment Fraud Detection is very important.\n"
   ]
  },
  {
   "cell_type": "markdown",
   "id": "8e35f544",
   "metadata": {},
   "source": [
    "Online Payment Fraud Detection using Machine Learning in Python\n",
    "Here we will try to solve this issue with the help of machine learning in Python.\n",
    "\n",
    "The dataset we will be using have these columns – \n",
    "\n",
    "\n",
    "* Feature\t       | Description\n",
    "* step\t           | tells about the unit of time\n",
    "* type\t           | type of transaction done\n",
    "* amount\t       | the total amount of transaction\n",
    "* nameOrg\t       | account that starts the transaction \n",
    "* oldbalanceOrg\t   | balance of the account of sender before transaction\n",
    "* newbalanceOrg\t   | balance of the account of sender after transaction\n",
    "* nameDest\t       | account that receives the transaction\n",
    "* oldbalanceDest   | balance of the account of receiver before transaction\n",
    "* newbalanceDest   | balance of the account of receiver after transaction\n",
    "* isFraud\t       | the value to be predicted i.e. 0 or 1"
   ]
  },
  {
   "cell_type": "markdown",
   "id": "0d696afc",
   "metadata": {},
   "source": [
    "# Problem Statement:\n",
    "The Online Payments Fraud Detection Problem includes modeling past online transactions with the knowledge of the ones that turned out to be a fraud. This model is then used to identify whether a new transaction is fraudulent or not. Our aim here is to detect 100% of the fraudulent transactions while minimizing the incorrect fraud classifications."
   ]
  },
  {
   "cell_type": "markdown",
   "id": "15535a06",
   "metadata": {},
   "source": [
    "# Importing Libraries and Datasets\n",
    "The libraries used are : \n",
    "\n",
    "Pandas: This library helps to load the data frame in a 2D array format and has multiple functions to perform analysis tasks in one go.\n",
    "Seaborn/Matplotlib: For data visualization.\n",
    "Numpy: Numpy arrays are very fast and can perform large computations in a very short time."
   ]
  },
  {
   "cell_type": "code",
   "execution_count": 2,
   "id": "df195d37",
   "metadata": {},
   "outputs": [],
   "source": [
    "import numpy as np\n",
    "import pandas as pd\n",
    "import matplotlib.pyplot as plt\n",
    "import seaborn as sns\n",
    "%matplotlib inline"
   ]
  },
  {
   "cell_type": "code",
   "execution_count": 3,
   "id": "f874fb02",
   "metadata": {},
   "outputs": [],
   "source": [
    "data = pd.read_csv(\"C:/Users/hp/Downloads/ML Project/Online_Payments.csv\")\n"
   ]
  },
  {
   "cell_type": "code",
   "execution_count": 4,
   "id": "e48c019e",
   "metadata": {},
   "outputs": [
    {
     "data": {
      "text/html": [
       "<div>\n",
       "<style scoped>\n",
       "    .dataframe tbody tr th:only-of-type {\n",
       "        vertical-align: middle;\n",
       "    }\n",
       "\n",
       "    .dataframe tbody tr th {\n",
       "        vertical-align: top;\n",
       "    }\n",
       "\n",
       "    .dataframe thead th {\n",
       "        text-align: right;\n",
       "    }\n",
       "</style>\n",
       "<table border=\"1\" class=\"dataframe\">\n",
       "  <thead>\n",
       "    <tr style=\"text-align: right;\">\n",
       "      <th></th>\n",
       "      <th>step</th>\n",
       "      <th>type</th>\n",
       "      <th>amount</th>\n",
       "      <th>nameOrig</th>\n",
       "      <th>oldbalanceOrg</th>\n",
       "      <th>newbalanceOrig</th>\n",
       "      <th>nameDest</th>\n",
       "      <th>oldbalanceDest</th>\n",
       "      <th>newbalanceDest</th>\n",
       "      <th>isFraud</th>\n",
       "      <th>isFlaggedFraud</th>\n",
       "    </tr>\n",
       "  </thead>\n",
       "  <tbody>\n",
       "    <tr>\n",
       "      <th>0</th>\n",
       "      <td>1</td>\n",
       "      <td>PAYMENT</td>\n",
       "      <td>9839.64</td>\n",
       "      <td>C1231006815</td>\n",
       "      <td>170136.0</td>\n",
       "      <td>160296.36</td>\n",
       "      <td>M1979787155</td>\n",
       "      <td>0.0</td>\n",
       "      <td>0.0</td>\n",
       "      <td>0</td>\n",
       "      <td>0</td>\n",
       "    </tr>\n",
       "    <tr>\n",
       "      <th>1</th>\n",
       "      <td>1</td>\n",
       "      <td>PAYMENT</td>\n",
       "      <td>1864.28</td>\n",
       "      <td>C1666544295</td>\n",
       "      <td>21249.0</td>\n",
       "      <td>19384.72</td>\n",
       "      <td>M2044282225</td>\n",
       "      <td>0.0</td>\n",
       "      <td>0.0</td>\n",
       "      <td>0</td>\n",
       "      <td>0</td>\n",
       "    </tr>\n",
       "    <tr>\n",
       "      <th>2</th>\n",
       "      <td>1</td>\n",
       "      <td>TRANSFER</td>\n",
       "      <td>181.00</td>\n",
       "      <td>C1305486145</td>\n",
       "      <td>181.0</td>\n",
       "      <td>0.00</td>\n",
       "      <td>C553264065</td>\n",
       "      <td>0.0</td>\n",
       "      <td>0.0</td>\n",
       "      <td>1</td>\n",
       "      <td>0</td>\n",
       "    </tr>\n",
       "    <tr>\n",
       "      <th>3</th>\n",
       "      <td>1</td>\n",
       "      <td>CASH_OUT</td>\n",
       "      <td>181.00</td>\n",
       "      <td>C840083671</td>\n",
       "      <td>181.0</td>\n",
       "      <td>0.00</td>\n",
       "      <td>C38997010</td>\n",
       "      <td>21182.0</td>\n",
       "      <td>0.0</td>\n",
       "      <td>1</td>\n",
       "      <td>0</td>\n",
       "    </tr>\n",
       "    <tr>\n",
       "      <th>4</th>\n",
       "      <td>1</td>\n",
       "      <td>PAYMENT</td>\n",
       "      <td>11668.14</td>\n",
       "      <td>C2048537720</td>\n",
       "      <td>41554.0</td>\n",
       "      <td>29885.86</td>\n",
       "      <td>M1230701703</td>\n",
       "      <td>0.0</td>\n",
       "      <td>0.0</td>\n",
       "      <td>0</td>\n",
       "      <td>0</td>\n",
       "    </tr>\n",
       "  </tbody>\n",
       "</table>\n",
       "</div>"
      ],
      "text/plain": [
       "   step      type    amount     nameOrig  oldbalanceOrg  newbalanceOrig  \\\n",
       "0     1   PAYMENT   9839.64  C1231006815       170136.0       160296.36   \n",
       "1     1   PAYMENT   1864.28  C1666544295        21249.0        19384.72   \n",
       "2     1  TRANSFER    181.00  C1305486145          181.0            0.00   \n",
       "3     1  CASH_OUT    181.00   C840083671          181.0            0.00   \n",
       "4     1   PAYMENT  11668.14  C2048537720        41554.0        29885.86   \n",
       "\n",
       "      nameDest  oldbalanceDest  newbalanceDest  isFraud  isFlaggedFraud  \n",
       "0  M1979787155             0.0             0.0        0               0  \n",
       "1  M2044282225             0.0             0.0        0               0  \n",
       "2   C553264065             0.0             0.0        1               0  \n",
       "3    C38997010         21182.0             0.0        1               0  \n",
       "4  M1230701703             0.0             0.0        0               0  "
      ]
     },
     "execution_count": 4,
     "metadata": {},
     "output_type": "execute_result"
    }
   ],
   "source": [
    "data.head()"
   ]
  },
  {
   "cell_type": "markdown",
   "id": "64abdd47",
   "metadata": {},
   "source": [
    "The dataset includes the features like type of payment, Old balance , amount paid, name of the destination, etc.\n",
    "\n"
   ]
  },
  {
   "cell_type": "code",
   "execution_count": 5,
   "id": "90376c14",
   "metadata": {},
   "outputs": [
    {
     "data": {
      "text/plain": [
       "step              0\n",
       "type              0\n",
       "amount            0\n",
       "nameOrig          0\n",
       "oldbalanceOrg     0\n",
       "newbalanceOrig    0\n",
       "nameDest          0\n",
       "oldbalanceDest    0\n",
       "newbalanceDest    0\n",
       "isFraud           0\n",
       "isFlaggedFraud    0\n",
       "dtype: int64"
      ]
     },
     "execution_count": 5,
     "metadata": {},
     "output_type": "execute_result"
    }
   ],
   "source": [
    "data.isnull().sum()"
   ]
  },
  {
   "cell_type": "code",
   "execution_count": 6,
   "id": "f06ad19e",
   "metadata": {},
   "outputs": [
    {
     "name": "stdout",
     "output_type": "stream",
     "text": [
      "<class 'pandas.core.frame.DataFrame'>\n",
      "RangeIndex: 6362620 entries, 0 to 6362619\n",
      "Data columns (total 11 columns):\n",
      " #   Column          Dtype  \n",
      "---  ------          -----  \n",
      " 0   step            int64  \n",
      " 1   type            object \n",
      " 2   amount          float64\n",
      " 3   nameOrig        object \n",
      " 4   oldbalanceOrg   float64\n",
      " 5   newbalanceOrig  float64\n",
      " 6   nameDest        object \n",
      " 7   oldbalanceDest  float64\n",
      " 8   newbalanceDest  float64\n",
      " 9   isFraud         int64  \n",
      " 10  isFlaggedFraud  int64  \n",
      "dtypes: float64(5), int64(3), object(3)\n",
      "memory usage: 534.0+ MB\n"
     ]
    }
   ],
   "source": [
    "data.info()"
   ]
  },
  {
   "cell_type": "markdown",
   "id": "2afb2786",
   "metadata": {},
   "source": [
    "To print the information of the data we can use data.info() command."
   ]
  },
  {
   "cell_type": "code",
   "execution_count": 7,
   "id": "3d91be85",
   "metadata": {},
   "outputs": [
    {
     "data": {
      "text/html": [
       "<div>\n",
       "<style scoped>\n",
       "    .dataframe tbody tr th:only-of-type {\n",
       "        vertical-align: middle;\n",
       "    }\n",
       "\n",
       "    .dataframe tbody tr th {\n",
       "        vertical-align: top;\n",
       "    }\n",
       "\n",
       "    .dataframe thead th {\n",
       "        text-align: right;\n",
       "    }\n",
       "</style>\n",
       "<table border=\"1\" class=\"dataframe\">\n",
       "  <thead>\n",
       "    <tr style=\"text-align: right;\">\n",
       "      <th></th>\n",
       "      <th>step</th>\n",
       "      <th>amount</th>\n",
       "      <th>oldbalanceOrg</th>\n",
       "      <th>newbalanceOrig</th>\n",
       "      <th>oldbalanceDest</th>\n",
       "      <th>newbalanceDest</th>\n",
       "      <th>isFraud</th>\n",
       "      <th>isFlaggedFraud</th>\n",
       "    </tr>\n",
       "  </thead>\n",
       "  <tbody>\n",
       "    <tr>\n",
       "      <th>count</th>\n",
       "      <td>6.362620e+06</td>\n",
       "      <td>6.362620e+06</td>\n",
       "      <td>6.362620e+06</td>\n",
       "      <td>6.362620e+06</td>\n",
       "      <td>6.362620e+06</td>\n",
       "      <td>6.362620e+06</td>\n",
       "      <td>6.362620e+06</td>\n",
       "      <td>6.362620e+06</td>\n",
       "    </tr>\n",
       "    <tr>\n",
       "      <th>mean</th>\n",
       "      <td>2.433972e+02</td>\n",
       "      <td>1.798619e+05</td>\n",
       "      <td>8.338831e+05</td>\n",
       "      <td>8.551137e+05</td>\n",
       "      <td>1.100702e+06</td>\n",
       "      <td>1.224996e+06</td>\n",
       "      <td>1.290820e-03</td>\n",
       "      <td>2.514687e-06</td>\n",
       "    </tr>\n",
       "    <tr>\n",
       "      <th>std</th>\n",
       "      <td>1.423320e+02</td>\n",
       "      <td>6.038582e+05</td>\n",
       "      <td>2.888243e+06</td>\n",
       "      <td>2.924049e+06</td>\n",
       "      <td>3.399180e+06</td>\n",
       "      <td>3.674129e+06</td>\n",
       "      <td>3.590480e-02</td>\n",
       "      <td>1.585775e-03</td>\n",
       "    </tr>\n",
       "    <tr>\n",
       "      <th>min</th>\n",
       "      <td>1.000000e+00</td>\n",
       "      <td>0.000000e+00</td>\n",
       "      <td>0.000000e+00</td>\n",
       "      <td>0.000000e+00</td>\n",
       "      <td>0.000000e+00</td>\n",
       "      <td>0.000000e+00</td>\n",
       "      <td>0.000000e+00</td>\n",
       "      <td>0.000000e+00</td>\n",
       "    </tr>\n",
       "    <tr>\n",
       "      <th>25%</th>\n",
       "      <td>1.560000e+02</td>\n",
       "      <td>1.338957e+04</td>\n",
       "      <td>0.000000e+00</td>\n",
       "      <td>0.000000e+00</td>\n",
       "      <td>0.000000e+00</td>\n",
       "      <td>0.000000e+00</td>\n",
       "      <td>0.000000e+00</td>\n",
       "      <td>0.000000e+00</td>\n",
       "    </tr>\n",
       "    <tr>\n",
       "      <th>50%</th>\n",
       "      <td>2.390000e+02</td>\n",
       "      <td>7.487194e+04</td>\n",
       "      <td>1.420800e+04</td>\n",
       "      <td>0.000000e+00</td>\n",
       "      <td>1.327057e+05</td>\n",
       "      <td>2.146614e+05</td>\n",
       "      <td>0.000000e+00</td>\n",
       "      <td>0.000000e+00</td>\n",
       "    </tr>\n",
       "    <tr>\n",
       "      <th>75%</th>\n",
       "      <td>3.350000e+02</td>\n",
       "      <td>2.087215e+05</td>\n",
       "      <td>1.073152e+05</td>\n",
       "      <td>1.442584e+05</td>\n",
       "      <td>9.430367e+05</td>\n",
       "      <td>1.111909e+06</td>\n",
       "      <td>0.000000e+00</td>\n",
       "      <td>0.000000e+00</td>\n",
       "    </tr>\n",
       "    <tr>\n",
       "      <th>max</th>\n",
       "      <td>7.430000e+02</td>\n",
       "      <td>9.244552e+07</td>\n",
       "      <td>5.958504e+07</td>\n",
       "      <td>4.958504e+07</td>\n",
       "      <td>3.560159e+08</td>\n",
       "      <td>3.561793e+08</td>\n",
       "      <td>1.000000e+00</td>\n",
       "      <td>1.000000e+00</td>\n",
       "    </tr>\n",
       "  </tbody>\n",
       "</table>\n",
       "</div>"
      ],
      "text/plain": [
       "               step        amount  oldbalanceOrg  newbalanceOrig  \\\n",
       "count  6.362620e+06  6.362620e+06   6.362620e+06    6.362620e+06   \n",
       "mean   2.433972e+02  1.798619e+05   8.338831e+05    8.551137e+05   \n",
       "std    1.423320e+02  6.038582e+05   2.888243e+06    2.924049e+06   \n",
       "min    1.000000e+00  0.000000e+00   0.000000e+00    0.000000e+00   \n",
       "25%    1.560000e+02  1.338957e+04   0.000000e+00    0.000000e+00   \n",
       "50%    2.390000e+02  7.487194e+04   1.420800e+04    0.000000e+00   \n",
       "75%    3.350000e+02  2.087215e+05   1.073152e+05    1.442584e+05   \n",
       "max    7.430000e+02  9.244552e+07   5.958504e+07    4.958504e+07   \n",
       "\n",
       "       oldbalanceDest  newbalanceDest       isFraud  isFlaggedFraud  \n",
       "count    6.362620e+06    6.362620e+06  6.362620e+06    6.362620e+06  \n",
       "mean     1.100702e+06    1.224996e+06  1.290820e-03    2.514687e-06  \n",
       "std      3.399180e+06    3.674129e+06  3.590480e-02    1.585775e-03  \n",
       "min      0.000000e+00    0.000000e+00  0.000000e+00    0.000000e+00  \n",
       "25%      0.000000e+00    0.000000e+00  0.000000e+00    0.000000e+00  \n",
       "50%      1.327057e+05    2.146614e+05  0.000000e+00    0.000000e+00  \n",
       "75%      9.430367e+05    1.111909e+06  0.000000e+00    0.000000e+00  \n",
       "max      3.560159e+08    3.561793e+08  1.000000e+00    1.000000e+00  "
      ]
     },
     "execution_count": 7,
     "metadata": {},
     "output_type": "execute_result"
    }
   ],
   "source": [
    "data.describe()"
   ]
  },
  {
   "cell_type": "markdown",
   "id": "258224cb",
   "metadata": {},
   "source": [
    "Let’s see the mean, count , minimum and maximum values of the data."
   ]
  },
  {
   "cell_type": "markdown",
   "id": "bfb9b754",
   "metadata": {},
   "source": [
    "# Data Visualization\n",
    "In this section, we will try to understand and compare all columns. \n",
    "\n",
    "Let’s count the columns with different datatypes like Category, Integer, Float. "
   ]
  },
  {
   "cell_type": "code",
   "execution_count": 8,
   "id": "ac432d31",
   "metadata": {},
   "outputs": [
    {
     "name": "stdout",
     "output_type": "stream",
     "text": [
      "Categorical variables: 3\n",
      "Integer variables: 0\n",
      "Float variables: 5\n"
     ]
    }
   ],
   "source": [
    "obj = (data.dtypes == 'object')\n",
    "object_cols = list(obj[obj].index)\n",
    "print(\"Categorical variables:\", len(object_cols))\n",
    " \n",
    "int_ = (data.dtypes == 'int')\n",
    "num_cols = list(int_[int_].index)\n",
    "print(\"Integer variables:\", len(num_cols))\n",
    " \n",
    "fl = (data.dtypes == 'float')\n",
    "fl_cols = list(fl[fl].index)\n",
    "print(\"Float variables:\", len(fl_cols))"
   ]
  },
  {
   "cell_type": "code",
   "execution_count": 9,
   "id": "66094892",
   "metadata": {},
   "outputs": [
    {
     "data": {
      "text/plain": [
       "<AxesSubplot:xlabel='type', ylabel='count'>"
      ]
     },
     "execution_count": 9,
     "metadata": {},
     "output_type": "execute_result"
    },
    {
     "data": {
      "image/png": "[encoded data removed]",
      "text/plain": [
       "<Figure size 432x288 with 1 Axes>"
      ]
     },
     "metadata": {
      "needs_background": "light"
     },
     "output_type": "display_data"
    }
   ],
   "source": [
    "sns.countplot(x='type', data=data)"
   ]
  },
  {
   "cell_type": "markdown",
   "id": "104de7ed",
   "metadata": {},
   "source": [
    "Let’s see the count plot of the Payment type column using Seaborn library."
   ]
  },
  {
   "cell_type": "code",
   "execution_count": null,
   "id": "32f810e8",
   "metadata": {},
   "outputs": [],
   "source": [
    "sns.barplot(x='type', y='amount', data=data)"
   ]
  },
  {
   "cell_type": "markdown",
   "id": "0a610b65",
   "metadata": {},
   "source": [
    "We can also use the bar plot for analyzing Type and amount column simultaneously.\n",
    "Both the graph clearly shows that mostly the type cash_out and transfer are maximum in count and as well as in amount. \n",
    "\n"
   ]
  },
  {
   "cell_type": "code",
   "execution_count": null,
   "id": "1093957c",
   "metadata": {},
   "outputs": [],
   "source": [
    "data['isFraud'].value_counts()"
   ]
  },
  {
   "cell_type": "markdown",
   "id": "40d4abf3",
   "metadata": {},
   "source": [
    "Let’s check the distribution of data among both the prediction values.The dataset is already in same count. So there is no need of sampling."
   ]
  },
  {
   "cell_type": "code",
   "execution_count": null,
   "id": "b4419abe",
   "metadata": {},
   "outputs": [],
   "source": [
    "\n",
    "plt.figure(figsize=(15, 6))\n",
    "sns.distplot(data['step'], bins=50)"
   ]
  },
  {
   "cell_type": "markdown",
   "id": "b0256eab",
   "metadata": {},
   "source": [
    "Now let’s see the distribution of the step column using distplot.The graph shows the maximum distribution among 200 to 400 of step."
   ]
  },
  {
   "cell_type": "code",
   "execution_count": null,
   "id": "c2badb56",
   "metadata": {
    "scrolled": true
   },
   "outputs": [],
   "source": [
    "\n",
    "plt.figure(figsize=(12, 6))\n",
    "sns.heatmap(data.corr(),\n",
    "            cmap='BrBG',\n",
    "            fmt='.2f',\n",
    "            linewidths=2,\n",
    "            annot=True)"
   ]
  },
  {
   "cell_type": "markdown",
   "id": "1e158302",
   "metadata": {},
   "source": [
    "Now, Let’s find the correlation among different features using Heatmap."
   ]
  },
  {
   "cell_type": "code",
   "execution_count": null,
   "id": "36ea7ef3",
   "metadata": {},
   "outputs": [],
   "source": [
    "# Exploring transaction type\n",
    "data.type.value_counts()"
   ]
  },
  {
   "cell_type": "code",
   "execution_count": null,
   "id": "5e154220",
   "metadata": {},
   "outputs": [],
   "source": [
    "type = data[\"type\"].value_counts()\n",
    "transactions = type.index\n",
    "quantity = type.values\n",
    "\n",
    "import plotly.express as px\n",
    "figure = px.pie(data, \n",
    "             values=quantity, \n",
    "             names=transactions,hole = 0.5, \n",
    "             title=\"Distribution of Transaction Type\")\n",
    "figure.show()"
   ]
  },
  {
   "cell_type": "code",
   "execution_count": null,
   "id": "b49bd1ae",
   "metadata": {},
   "outputs": [],
   "source": [
    "# Checking correlation\n",
    "correlation = data.corr()\n",
    "correlation[\"isFraud\"].sort_values(ascending=False)"
   ]
  },
  {
   "cell_type": "code",
   "execution_count": null,
   "id": "4028a5bc",
   "metadata": {},
   "outputs": [],
   "source": [
    "data[\"type\"] = data[\"type\"].map({\"CASH_OUT\": 1, \"PAYMENT\": 2, \n",
    "                                 \"CASH_IN\": 3, \"TRANSFER\": 4,\n",
    "                                 \"DEBIT\": 5})\n",
    "data[\"isFraud\"] = data[\"isFraud\"].map({0: \"No Fraud\", 1: \"Fraud\"})\n",
    "data.head()"
   ]
  },
  {
   "cell_type": "markdown",
   "id": "5560f78a",
   "metadata": {},
   "source": [
    "# Data Preprocessing\n",
    "This step includes the following : \n",
    "\n",
    "* Encoding of Type column\n",
    "* Dropping irrelevant columns like nameOrig, nameDest\n",
    "* Data Splitting"
   ]
  },
  {
   "cell_type": "code",
   "execution_count": null,
   "id": "0142cbd8",
   "metadata": {},
   "outputs": [],
   "source": [
    "type_new = pd.get_dummies(data['type'], drop_first=True)\n",
    "data_new = pd.concat([data, type_new], axis=1)\n",
    "data_new.head()"
   ]
  },
  {
   "cell_type": "markdown",
   "id": "9d5cade3",
   "metadata": {},
   "source": [
    "Once we done with the encoding, now we can drop the irrelevant columns. For that, follow the code given below."
   ]
  },
  {
   "cell_type": "code",
   "execution_count": null,
   "id": "19519169",
   "metadata": {},
   "outputs": [],
   "source": [
    "\n",
    "X = data_new.drop(['isFraud', 'type', 'nameOrig', 'nameDest'], axis=1)\n",
    "y = data_new['isFraud']"
   ]
  },
  {
   "cell_type": "markdown",
   "id": "eb7ec4c6",
   "metadata": {},
   "source": [
    "Let’s check the shape of extracted data."
   ]
  },
  {
   "cell_type": "code",
   "execution_count": null,
   "id": "56404493",
   "metadata": {},
   "outputs": [],
   "source": [
    "X.shape, y.shape"
   ]
  },
  {
   "cell_type": "markdown",
   "id": "7c4e5269",
   "metadata": {},
   "source": [
    "Now let’s split the data into 2 parts : Training and Testing.\n"
   ]
  },
  {
   "cell_type": "code",
   "execution_count": null,
   "id": "e51cf8c4",
   "metadata": {},
   "outputs": [],
   "source": [
    "from sklearn.model_selection import train_test_split\n",
    "X_train, X_test, y_train, y_test = train_test_split(\n",
    "    X, y, test_size=0.3, random_state=42)"
   ]
  },
  {
   "cell_type": "markdown",
   "id": "340b9a27",
   "metadata": {},
   "source": [
    "# Model Training"
   ]
  },
  {
   "cell_type": "markdown",
   "id": "e4a6471c",
   "metadata": {},
   "source": [
    "As the prediction is a classification problem so the models we will be using are :\n",
    "\n",
    "* LogisticRegression :  It predicts that the probability of a given data belongs to the particular category or not.\n",
    "* XGBClassifier : It refers to Gradient Boosted decision trees. In this algorithm, decision trees are created in sequential form and weights are assigned to all the independent variables which are then fed into the decision tree which predicts results.\n",
    "* SVC : SVC is used to find a hyperplane in an N-dimensional space that distinctly classifies the data points. Then it gives the output according the most nearby element.\n",
    "* RandomForestClassifier : Random forest classifier creates a set of decision trees from a randomly selected subset of the training set. Then, it collects the votes from different decision trees to decide the final prediction.\n",
    "\n",
    "Let’s import the modules of the relevant models."
   ]
  },
  {
   "cell_type": "code",
   "execution_count": null,
   "id": "91d53b01",
   "metadata": {},
   "outputs": [],
   "source": [
    "pip install xgboost"
   ]
  },
  {
   "cell_type": "code",
   "execution_count": null,
   "id": "cd8da283",
   "metadata": {},
   "outputs": [],
   "source": [
    "\n",
    "from xgboost import XGBClassifier\n",
    "from sklearn.metrics import roc_auc_score as ras\n",
    "from sklearn.linear_model import LogisticRegression\n",
    "from sklearn.svm import SVC\n",
    "from sklearn.ensemble import RandomForestClassifier"
   ]
  },
  {
   "cell_type": "markdown",
   "id": "633f15c9",
   "metadata": {},
   "source": [
    "Once done with the importing, Let’s train the model."
   ]
  },
  {
   "cell_type": "code",
   "execution_count": null,
   "id": "d9fdd781",
   "metadata": {},
   "outputs": [],
   "source": [
    "from sklearn.preprocessing import LabelEncoder\n",
    "\n",
    "# Convert 'Fraud' to 1 and 'No Fraud' to 0\n",
    "le = LabelEncoder()\n",
    "y_train = le.fit_transform(y_train)\n",
    "y_test = le.transform(y_test)"
   ]
  },
  {
   "cell_type": "markdown",
   "id": "c75571a5",
   "metadata": {},
   "source": [
    "This will convert the string labels to numerical labels (0 and 1 in this case) and allow you to fit the models successfully."
   ]
  },
  {
   "cell_type": "code",
   "execution_count": null,
   "id": "17052971",
   "metadata": {},
   "outputs": [],
   "source": [
    "\n",
    "\n",
    "''''models = [LogisticRegression(), XGBClassifier(),\n",
    "          SVC(kernel='rbf', probability=True),\n",
    "          RandomForestClassifier(n_estimators=7,\n",
    "                                 criterion='entropy',\n",
    "                                 random_state=7)]\n",
    " \n",
    "for i in range(len(models)):\n",
    "    models[i].fit(X_train, y_train)\n",
    "    print(f'{models[i]} : ')\n",
    "     \n",
    "    train_preds = models[i].predict_proba(X_train)[:, 1]\n",
    "    print('Training Accuracy : ', ras(y_train, train_preds))\n",
    "     \n",
    "    y_preds = models[i].predict_proba(X_test)[:, 1]\n",
    "    print('Validation Accuracy : ', ras(y_test, y_preds))\n",
    "    print()'''"
   ]
  },
  {
   "cell_type": "code",
   "execution_count": null,
   "id": "875e2ad5",
   "metadata": {},
   "outputs": [],
   "source": [
    "lg = LogisticRegression()\n",
    " \n",
    "\n",
    "lg.fit(X_train, y_train)\n",
    "print(f'{lg} : ')\n",
    "     \n",
    "train_preds = lg.predict_proba(X_train)[:, 1]\n",
    "print('Training Accuracy : ', ras(y_train, train_preds))\n",
    "     \n",
    "y_preds = lg.predict_proba(X_test)[:, 1]\n",
    "print('Validation Accuracy : ', ras(y_test, y_preds))\n",
    "print()"
   ]
  },
  {
   "cell_type": "code",
   "execution_count": null,
   "id": "142daea3",
   "metadata": {},
   "outputs": [],
   "source": [
    "xbg =  XGBClassifier()\n",
    "          \n",
    "xbg.fit(X_train, y_train)\n",
    "print(f'{xbg} : ')\n",
    "     \n",
    "train_preds = xbg.predict_proba(X_train)[:, 1]\n",
    "print('Training Accuracy : ', ras(y_train, train_preds))\n",
    "     \n",
    "y_preds = xbg.predict_proba(X_test)[:, 1]\n",
    "print('Validation Accuracy : ', ras(y_test, y_preds))\n",
    "print()"
   ]
  },
  {
   "cell_type": "code",
   "execution_count": null,
   "id": "7fa13955",
   "metadata": {},
   "outputs": [],
   "source": [
    "svc= SVC(kernel='rbf', probability=True)\n",
    "         \n",
    "svc.fit(X_train, y_train)\n",
    "print(f'{svc} : ')\n",
    "     \n",
    "train_preds = svc.predict_proba(X_train)[:, 1]\n",
    "print('Training Accuracy : ', ras(y_train, train_preds))\n",
    "     \n",
    "y_preds = svc.predict_proba(X_test)[:, 1]\n",
    "print('Validation Accuracy : ', ras(y_test, y_preds))\n",
    "print()"
   ]
  },
  {
   "cell_type": "code",
   "execution_count": null,
   "id": "88c5c412",
   "metadata": {},
   "outputs": [],
   "source": [
    "rfc=RandomForestClassifier(n_estimators=7,criterion='entropy',random_state=7)\n",
    "rfc.fit(X_train, y_train)\n",
    "print(f'{rfc} : ')\n",
    "     \n",
    "train_preds = rfc.predict_proba(X_train)[:, 1]\n",
    "print('Training Accuracy : ', ras(y_train, train_preds))\n",
    "     \n",
    "y_preds = rfc.predict_proba(X_test)[:, 1]\n",
    "print('Validation Accuracy : ', ras(y_test, y_preds))\n",
    "print()"
   ]
  },
  {
   "cell_type": "markdown",
   "id": "eb595e69",
   "metadata": {},
   "source": [
    "# Model Evaluation\n",
    "The best-performed model is XGBClassifier. Let’s plot the Confusion Matrix for the same."
   ]
  },
  {
   "cell_type": "code",
   "execution_count": null,
   "id": "9b1f6e67",
   "metadata": {},
   "outputs": [],
   "source": [
    "\n",
    "from sklearn.metrics import plot_confusion_matrix\n",
    " \n",
    "plot_confusion_matrix(models[1], X_test, y_test)\n",
    "plt.show()"
   ]
  },
  {
   "cell_type": "markdown",
   "id": "579df794",
   "metadata": {},
   "source": [
    "# Conclusion\n"
   ]
  },
  {
   "cell_type": "markdown",
   "id": "3c2aad7e",
   "metadata": {},
   "source": [
    "In conclusion, the online payments fraud detection ML project has been successful in developing a machine learning model that can accurately detect fraudulent transactions in online payments. Through the use of a variety of feature engineering techniques and algorithms, we were able to achieve a high level of accuracy in identifying fraudulent transactions.\n",
    "\n",
    "This project has demonstrated the effectiveness of using machine learning for fraud detection in online payments. By analyzing various data points and identifying patterns in fraudulent behavior, we can develop models that are highly accurate in detecting fraudulent transactions.\n",
    "\n",
    "However, it is important to note that fraudsters are constantly evolving their methods, and therefore, our model must be continuously updated and improved to stay ahead of new tactics. Additionally, it is important to balance fraud detection with user experience to prevent false positives and ensure a seamless payment experience for legitimate users.\n",
    "\n",
    "Overall, the online payments fraud detection ML project has shown great potential in improving the security of online payments and reducing financial losses for both consumers and businesses. As machine learning continues to advance, it is likely that these models will become even more effective in detecting and preventing fraud in online payments."
   ]
  },
  {
   "cell_type": "code",
   "execution_count": null,
   "id": "ff6bc60e",
   "metadata": {},
   "outputs": [],
   "source": []
  }
 ],
 "metadata": {
  "kernelspec": {
   "display_name": "Python 3 (ipykernel)",
   "language": "python",
   "name": "python3"
  },
  "language_info": {
   "codemirror_mode": {
    "name": "ipython",
    "version": 3
   },
   "file_extension": ".py",
   "mimetype": "text/x-python",
   "name": "python",
   "nbconvert_exporter": "python",
   "pygments_lexer": "ipython3",
   "version": "3.9.12"
  }
 },
 "nbformat": 4,
 "nbformat_minor": 5
}
